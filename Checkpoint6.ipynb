{
  "nbformat": 4,
  "nbformat_minor": 0,
  "metadata": {
    "colab": {
      "name": "Checkpoint6.ipynb",
      "provenance": []
    },
    "kernelspec": {
      "name": "python3",
      "display_name": "Python 3"
    },
    "language_info": {
      "name": "python"
    }
  },
  "cells": [
    {
      "cell_type": "code",
      "metadata": {
        "id": "0jUU3YpPrk_-"
      },
      "source": [
        "import numpy as np\n",
        "import pandas as pd \n",
        "import matplotlib.pyplot as plt\n",
        "import seaborn as sns\n",
        "import csv\n",
        "\n",
        "from sklearn.model_selection import train_test_split\n",
        "from sklearn.linear_model import LinearRegression\n",
        "from sklearn.metrics import mean_squared_error\n",
        "from sklearn import metrics"
      ],
      "execution_count": 4,
      "outputs": []
    },
    {
      "cell_type": "code",
      "metadata": {
        "colab": {
          "base_uri": "https://localhost:8080/"
        },
        "id": "Qq72-MaUIuSR",
        "outputId": "dde6f257-3e6c-4f00-b1b3-9974a904ae54"
      },
      "source": [
        "with open('iris.data.txt', 'r') as csvfile:\n",
        "  lines = csv.reader(csvfile)\n",
        "  for row in lines :\n",
        "    print (', '.join(row))"
      ],
      "execution_count": 12,
      "outputs": [
        {
          "output_type": "stream",
          "text": [
            "5.1, 3.5, 1.4, 0.2, Iris-setosa\n",
            "4.9, 3.0, 1.4, 0.2, Iris-setosa\n",
            "4.7, 3.2, 1.3, 0.2, Iris-setosa\n",
            "4.6, 3.1, 1.5, 0.2, Iris-setosa\n",
            "5.0, 3.6, 1.4, 0.2, Iris-setosa\n",
            "5.4, 3.9, 1.7, 0.4, Iris-setosa\n",
            "4.6, 3.4, 1.4, 0.3, Iris-setosa\n",
            "5.0, 3.4, 1.5, 0.2, Iris-setosa\n",
            "4.4, 2.9, 1.4, 0.2, Iris-setosa\n",
            "4.9, 3.1, 1.5, 0.1, Iris-setosa\n",
            "5.4, 3.7, 1.5, 0.2, Iris-setosa\n",
            "4.8, 3.4, 1.6, 0.2, Iris-setosa\n",
            "4.8, 3.0, 1.4, 0.1, Iris-setosa\n",
            "4.3, 3.0, 1.1, 0.1, Iris-setosa\n",
            "5.8, 4.0, 1.2, 0.2, Iris-setosa\n",
            "5.7, 4.4, 1.5, 0.4, Iris-setosa\n",
            "5.4, 3.9, 1.3, 0.4, Iris-setosa\n",
            "5.1, 3.5, 1.4, 0.3, Iris-setosa\n",
            "5.7, 3.8, 1.7, 0.3, Iris-setosa\n",
            "5.1, 3.8, 1.5, 0.3, Iris-setosa\n",
            "5.4, 3.4, 1.7, 0.2, Iris-setosa\n",
            "5.1, 3.7, 1.5, 0.4, Iris-setosa\n",
            "4.6, 3.6, 1.0, 0.2, Iris-setosa\n",
            "5.1, 3.3, 1.7, 0.5, Iris-setosa\n",
            "4.8, 3.4, 1.9, 0.2, Iris-setosa\n",
            "5.0, 3.0, 1.6, 0.2, Iris-setosa\n",
            "5.0, 3.4, 1.6, 0.4, Iris-setosa\n",
            "5.2, 3.5, 1.5, 0.2, Iris-setosa\n",
            "5.2, 3.4, 1.4, 0.2, Iris-setosa\n",
            "4.7, 3.2, 1.6, 0.2, Iris-setosa\n",
            "4.8, 3.1, 1.6, 0.2, Iris-setosa\n",
            "5.4, 3.4, 1.5, 0.4, Iris-setosa\n",
            "5.2, 4.1, 1.5, 0.1, Iris-setosa\n",
            "5.5, 4.2, 1.4, 0.2, Iris-setosa\n",
            "4.9, 3.1, 1.5, 0.1, Iris-setosa\n",
            "5.0, 3.2, 1.2, 0.2, Iris-setosa\n",
            "5.5, 3.5, 1.3, 0.2, Iris-setosa\n",
            "4.9, 3.1, 1.5, 0.1, Iris-setosa\n",
            "4.4, 3.0, 1.3, 0.2, Iris-setosa\n",
            "5.1, 3.4, 1.5, 0.2, Iris-setosa\n",
            "5.0, 3.5, 1.3, 0.3, Iris-setosa\n",
            "4.5, 2.3, 1.3, 0.3, Iris-setosa\n",
            "4.4, 3.2, 1.3, 0.2, Iris-setosa\n",
            "5.0, 3.5, 1.6, 0.6, Iris-setosa\n",
            "5.1, 3.8, 1.9, 0.4, Iris-setosa\n",
            "4.8, 3.0, 1.4, 0.3, Iris-setosa\n",
            "5.1, 3.8, 1.6, 0.2, Iris-setosa\n",
            "4.6, 3.2, 1.4, 0.2, Iris-setosa\n",
            "5.3, 3.7, 1.5, 0.2, Iris-setosa\n",
            "5.0, 3.3, 1.4, 0.2, Iris-setosa\n",
            "7.0, 3.2, 4.7, 1.4, Iris-versicolor\n",
            "6.4, 3.2, 4.5, 1.5, Iris-versicolor\n",
            "6.9, 3.1, 4.9, 1.5, Iris-versicolor\n",
            "5.5, 2.3, 4.0, 1.3, Iris-versicolor\n",
            "6.5, 2.8, 4.6, 1.5, Iris-versicolor\n",
            "5.7, 2.8, 4.5, 1.3, Iris-versicolor\n",
            "6.3, 3.3, 4.7, 1.6, Iris-versicolor\n",
            "4.9, 2.4, 3.3, 1.0, Iris-versicolor\n",
            "6.6, 2.9, 4.6, 1.3, Iris-versicolor\n",
            "5.2, 2.7, 3.9, 1.4, Iris-versicolor\n",
            "5.0, 2.0, 3.5, 1.0, Iris-versicolor\n",
            "5.9, 3.0, 4.2, 1.5, Iris-versicolor\n",
            "6.0, 2.2, 4.0, 1.0, Iris-versicolor\n",
            "6.1, 2.9, 4.7, 1.4, Iris-versicolor\n",
            "5.6, 2.9, 3.6, 1.3, Iris-versicolor\n",
            "6.7, 3.1, 4.4, 1.4, Iris-versicolor\n",
            "5.6, 3.0, 4.5, 1.5, Iris-versicolor\n",
            "5.8, 2.7, 4.1, 1.0, Iris-versicolor\n",
            "6.2, 2.2, 4.5, 1.5, Iris-versicolor\n",
            "5.6, 2.5, 3.9, 1.1, Iris-versicolor\n",
            "5.9, 3.2, 4.8, 1.8, Iris-versicolor\n",
            "6.1, 2.8, 4.0, 1.3, Iris-versicolor\n",
            "6.3, 2.5, 4.9, 1.5, Iris-versicolor\n",
            "6.1, 2.8, 4.7, 1.2, Iris-versicolor\n",
            "6.4, 2.9, 4.3, 1.3, Iris-versicolor\n",
            "6.6, 3.0, 4.4, 1.4, Iris-versicolor\n",
            "6.8, 2.8, 4.8, 1.4, Iris-versicolor\n",
            "6.7, 3.0, 5.0, 1.7, Iris-versicolor\n",
            "6.0, 2.9, 4.5, 1.5, Iris-versicolor\n",
            "5.7, 2.6, 3.5, 1.0, Iris-versicolor\n",
            "5.5, 2.4, 3.8, 1.1, Iris-versicolor\n",
            "5.5, 2.4, 3.7, 1.0, Iris-versicolor\n",
            "5.8, 2.7, 3.9, 1.2, Iris-versicolor\n",
            "6.0, 2.7, 5.1, 1.6, Iris-versicolor\n",
            "5.4, 3.0, 4.5, 1.5, Iris-versicolor\n",
            "6.0, 3.4, 4.5, 1.6, Iris-versicolor\n",
            "6.7, 3.1, 4.7, 1.5, Iris-versicolor\n",
            "6.3, 2.3, 4.4, 1.3, Iris-versicolor\n",
            "5.6, 3.0, 4.1, 1.3, Iris-versicolor\n",
            "5.5, 2.5, 4.0, 1.3, Iris-versicolor\n",
            "5.5, 2.6, 4.4, 1.2, Iris-versicolor\n",
            "6.1, 3.0, 4.6, 1.4, Iris-versicolor\n",
            "5.8, 2.6, 4.0, 1.2, Iris-versicolor\n",
            "5.0, 2.3, 3.3, 1.0, Iris-versicolor\n",
            "5.6, 2.7, 4.2, 1.3, Iris-versicolor\n",
            "5.7, 3.0, 4.2, 1.2, Iris-versicolor\n",
            "5.7, 2.9, 4.2, 1.3, Iris-versicolor\n",
            "6.2, 2.9, 4.3, 1.3, Iris-versicolor\n",
            "5.1, 2.5, 3.0, 1.1, Iris-versicolor\n",
            "5.7, 2.8, 4.1, 1.3, Iris-versicolor\n",
            "6.3, 3.3, 6.0, 2.5, Iris-virginica\n",
            "5.8, 2.7, 5.1, 1.9, Iris-virginica\n",
            "7.1, 3.0, 5.9, 2.1, Iris-virginica\n",
            "6.3, 2.9, 5.6, 1.8, Iris-virginica\n",
            "6.5, 3.0, 5.8, 2.2, Iris-virginica\n",
            "7.6, 3.0, 6.6, 2.1, Iris-virginica\n",
            "4.9, 2.5, 4.5, 1.7, Iris-virginica\n",
            "7.3, 2.9, 6.3, 1.8, Iris-virginica\n",
            "6.7, 2.5, 5.8, 1.8, Iris-virginica\n",
            "7.2, 3.6, 6.1, 2.5, Iris-virginica\n",
            "6.5, 3.2, 5.1, 2.0, Iris-virginica\n",
            "6.4, 2.7, 5.3, 1.9, Iris-virginica\n",
            "6.8, 3.0, 5.5, 2.1, Iris-virginica\n",
            "5.7, 2.5, 5.0, 2.0, Iris-virginica\n",
            "5.8, 2.8, 5.1, 2.4, Iris-virginica\n",
            "6.4, 3.2, 5.3, 2.3, Iris-virginica\n",
            "6.5, 3.0, 5.5, 1.8, Iris-virginica\n",
            "7.7, 3.8, 6.7, 2.2, Iris-virginica\n",
            "7.7, 2.6, 6.9, 2.3, Iris-virginica\n",
            "6.0, 2.2, 5.0, 1.5, Iris-virginica\n",
            "6.9, 3.2, 5.7, 2.3, Iris-virginica\n",
            "5.6, 2.8, 4.9, 2.0, Iris-virginica\n",
            "7.7, 2.8, 6.7, 2.0, Iris-virginica\n",
            "6.3, 2.7, 4.9, 1.8, Iris-virginica\n",
            "6.7, 3.3, 5.7, 2.1, Iris-virginica\n",
            "7.2, 3.2, 6.0, 1.8, Iris-virginica\n",
            "6.2, 2.8, 4.8, 1.8, Iris-virginica\n",
            "6.1, 3.0, 4.9, 1.8, Iris-virginica\n",
            "6.4, 2.8, 5.6, 2.1, Iris-virginica\n",
            "7.2, 3.0, 5.8, 1.6, Iris-virginica\n",
            "7.4, 2.8, 6.1, 1.9, Iris-virginica\n",
            "7.9, 3.8, 6.4, 2.0, Iris-virginica\n",
            "6.4, 2.8, 5.6, 2.2, Iris-virginica\n",
            "6.3, 2.8, 5.1, 1.5, Iris-virginica\n",
            "6.1, 2.6, 5.6, 1.4, Iris-virginica\n",
            "7.7, 3.0, 6.1, 2.3, Iris-virginica\n",
            "6.3, 3.4, 5.6, 2.4, Iris-virginica\n",
            "6.4, 3.1, 5.5, 1.8, Iris-virginica\n",
            "6.0, 3.0, 4.8, 1.8, Iris-virginica\n",
            "6.9, 3.1, 5.4, 2.1, Iris-virginica\n",
            "6.7, 3.1, 5.6, 2.4, Iris-virginica\n",
            "6.9, 3.1, 5.1, 2.3, Iris-virginica\n",
            "5.8, 2.7, 5.1, 1.9, Iris-virginica\n",
            "6.8, 3.2, 5.9, 2.3, Iris-virginica\n",
            "6.7, 3.3, 5.7, 2.5, Iris-virginica\n",
            "6.7, 3.0, 5.2, 2.3, Iris-virginica\n",
            "6.3, 2.5, 5.0, 1.9, Iris-virginica\n",
            "6.5, 3.0, 5.2, 2.0, Iris-virginica\n",
            "6.2, 3.4, 5.4, 2.3, Iris-virginica\n",
            "5.9, 3.0, 5.1, 1.8, Iris-virginica\n"
          ],
          "name": "stdout"
        }
      ]
    },
    {
      "cell_type": "code",
      "metadata": {
        "id": "Ny8CDoFMPD4T"
      },
      "source": [
        "def shuffle(csvfile):\n",
        " random.shuffle(csvfile)\n",
        " train_data = csvfile[:int(0.7*30)]\n",
        " test_data = csvfile[int(0.7*30):]\n",
        " return train_data, test_data"
      ],
      "execution_count": 27,
      "outputs": []
    },
    {
      "cell_type": "code",
      "metadata": {
        "id": "6wEJCyDTJZXj"
      },
      "source": [
        "import random\n",
        "\n",
        "def loadDataset(filename, split, trainingSet=[] , testSet=[]):\n",
        "  with open(filename, 'r') as csvfile:\n",
        "    lines = csv.reader(csvfile)\n",
        "    dataset = list(lines)\n",
        "    for x in range(len(dataset)-1):\n",
        "      for y in range(4):\n",
        "        dataset[x][y] = float(dataset[x][y])\n",
        "        if random.random() < split:\n",
        "         trainingSet.append(dataset[x])\n",
        "        else:\n",
        "          testSet.append(dataset[x])"
      ],
      "execution_count": 41,
      "outputs": []
    },
    {
      "cell_type": "code",
      "metadata": {
        "colab": {
          "base_uri": "https://localhost:8080/"
        },
        "id": "Ipl2_e8mVlea",
        "outputId": "cddec02a-4706-4222-e992-90915b990e24"
      },
      "source": [
        "trainingSet=[]\n",
        "testSet=[]\n",
        "\n",
        "loadDataset('iris.data.txt', 0.66, trainingSet, testSet)\n",
        "print ('Train: ' + repr(len(trainingSet)))\n",
        "print ('Test: ' + repr(len(testSet)) )"
      ],
      "execution_count": 46,
      "outputs": [
        {
          "output_type": "stream",
          "text": [
            "Train: 382\n",
            "Test: 214\n"
          ],
          "name": "stdout"
        }
      ]
    },
    {
      "cell_type": "code",
      "metadata": {
        "id": "sFVLxm_ka_9e"
      },
      "source": [
        "import math\n",
        "\n",
        "def euclideanDistance(instance1, instance2, length):\n",
        "  distance = 0\n",
        "  for x in range(length):\n",
        "    distance+=pow((instance1[x]-instance2[x]),4)\n",
        "  return math.sqrt(distance)"
      ],
      "execution_count": 82,
      "outputs": []
    },
    {
      "cell_type": "code",
      "metadata": {
        "colab": {
          "base_uri": "https://localhost:8080/"
        },
        "id": "hoWf9jMccbLe",
        "outputId": "afca1d91-866a-4ea5-bfda-88d5f502681f"
      },
      "source": [
        "data1 = [2,2,2,'a']\n",
        "data2 = [4,7,9,'b']\n",
        "distance = euclideanDistance(data1, data2, 3)\n",
        "print('distance :' + repr(distance))"
      ],
      "execution_count": 74,
      "outputs": [
        {
          "output_type": "stream",
          "text": [
            "distance :55.154328932550705\n"
          ],
          "name": "stdout"
        }
      ]
    },
    {
      "cell_type": "code",
      "metadata": {
        "id": "BWtgSwbpkFT3"
      },
      "source": [
        "import operator\n",
        "\n",
        "def getNeighbors(trainingSet, testInstance, k):\n",
        " distances = []\n",
        " length = len(testInstance)-1\n",
        "\n",
        " for x in range(len(trainingSet)):\n",
        "  dist = euclideanDistance(testInstance, trainingSet[x], length)\n",
        "  distances.append((trainingSet[x], dist))\n",
        "  distances.sort(key=operator.itemgetter(1))\n",
        "  neighbors = []\n",
        "  for x in range(k):\n",
        "   neighbors.append(distances[x][0])\n",
        "   return neighbors"
      ],
      "execution_count": 84,
      "outputs": []
    },
    {
      "cell_type": "code",
      "metadata": {
        "colab": {
          "base_uri": "https://localhost:8080/"
        },
        "id": "zxEsdkjnnI1L",
        "outputId": "38adaf75-7ce9-423e-a800-2a45dd91050d"
      },
      "source": [
        "trainSet = [[2, 2, 2, 'a'], [4, 4, 4, 'b']]\n",
        "testInstance = [5, 5, 5]\n",
        "k = 1\n",
        "neighbors = getNeighbors(trainSet, testInstance, 1)\n",
        "print(neighbors)"
      ],
      "execution_count": 76,
      "outputs": [
        {
          "output_type": "stream",
          "text": [
            "[[2, 2, 2, 'a']]\n"
          ],
          "name": "stdout"
        }
      ]
    },
    {
      "cell_type": "code",
      "metadata": {
        "id": "c_UxZDw3nmUI"
      },
      "source": [
        "import operator\n",
        "\n",
        "def getResponse(neighbors):\n",
        "  classVotes = {}\n",
        "  for x in range(len(neighbors)):\n",
        "   response = neighbors[x][-1] #complete with appropriate number\n",
        "   if response in classVotes:\n",
        "    classVotes[response] += 1\n",
        "   else:\n",
        "    classVotes[response] = 1\n",
        "  sortedVotes = sorted(classVotes.items(), key=operator.itemgetter(1), reverse=True)\n",
        "  return sortedVotes[0][0]"
      ],
      "execution_count": 85,
      "outputs": []
    },
    {
      "cell_type": "code",
      "metadata": {
        "id": "OJXmbkl4nwH4"
      },
      "source": [
        "neighbors = [[1,1,1,'a'], [2,2,2,'a'], [3,3,3,'b']]\n",
        "response = getResponse(neighbors)\n",
        "print(response)"
      ],
      "execution_count": null,
      "outputs": []
    },
    {
      "cell_type": "code",
      "metadata": {
        "id": "vX_kirORpB4C"
      },
      "source": [
        "def getAccuracy(testSet, predictions):\n",
        " correct=0\n",
        " for x in range(len(testSet)):\n",
        "  if testSet[x][-1] is predictions[x]:\n",
        "    correct += 1\n",
        " return (correct/float(len(testSet))) * 100.0"
      ],
      "execution_count": 86,
      "outputs": []
    },
    {
      "cell_type": "code",
      "metadata": {
        "colab": {
          "base_uri": "https://localhost:8080/"
        },
        "id": "kB6F_27zpTfH",
        "outputId": "be4b91a8-cd29-40ad-c147-9dcb788a568e"
      },
      "source": [
        "testSet = [[1,1,1,'a'], [2,2,2,'a'], [3,3,3,'b']]\n",
        "predictions = ['a', 'a', 'a']\n",
        "accuracy = getAccuracy(testSet, predictions)\n",
        "print(accuracy)"
      ],
      "execution_count": 78,
      "outputs": [
        {
          "output_type": "stream",
          "text": [
            "66.66666666666666\n"
          ],
          "name": "stdout"
        }
      ]
    },
    {
      "cell_type": "code",
      "metadata": {
        "colab": {
          "base_uri": "https://localhost:8080/"
        },
        "id": "g6mVPLzXp1yX",
        "outputId": "17aa3b55-05a7-4d2b-ce9e-c48b9c529e50"
      },
      "source": [
        "def main():\n",
        "  trainingSet=[]\n",
        "  testSet=[]\n",
        "  split=0.67\n",
        "  loadDataset('iris.data.txt', split, trainingSet, testSet)\n",
        "  print('Train Seet: ' + repr(len(trainingSet)))\n",
        "  print('Test Set: ' + repr(len(testSet)))\n",
        "\n",
        "  predictions=[]\n",
        "  k = 3\n",
        "  for x in range(len(testSet)):\n",
        "    neighbors= getNeighbors(trainingSet, testSet[x], k)\n",
        "    result= getResponse(neighbors)\n",
        "    predictions.append(result)\n",
        "    print('  predicted=  ' + repr(result) + ',        actual=  ' + repr(testSet[x][-1]))\n",
        "  accuracy = getAccuracy(testSet, predictions)\n",
        "  print('Accuracy: ' + repr(accuracy) + '%')\n",
        "\n",
        "\n",
        "main()\n",
        "\n"
      ],
      "execution_count": 92,
      "outputs": [
        {
          "output_type": "stream",
          "text": [
            "Train Seet: 396\n",
            "Test Set: 200\n",
            "  predicted=  'Iris-setosa',        actual=  'Iris-setosa'\n",
            "  predicted=  'Iris-setosa',        actual=  'Iris-setosa'\n",
            "  predicted=  'Iris-setosa',        actual=  'Iris-setosa'\n",
            "  predicted=  'Iris-setosa',        actual=  'Iris-setosa'\n",
            "  predicted=  'Iris-setosa',        actual=  'Iris-setosa'\n",
            "  predicted=  'Iris-setosa',        actual=  'Iris-setosa'\n",
            "  predicted=  'Iris-setosa',        actual=  'Iris-setosa'\n",
            "  predicted=  'Iris-setosa',        actual=  'Iris-setosa'\n",
            "  predicted=  'Iris-setosa',        actual=  'Iris-setosa'\n",
            "  predicted=  'Iris-setosa',        actual=  'Iris-setosa'\n",
            "  predicted=  'Iris-setosa',        actual=  'Iris-setosa'\n",
            "  predicted=  'Iris-setosa',        actual=  'Iris-setosa'\n",
            "  predicted=  'Iris-setosa',        actual=  'Iris-setosa'\n",
            "  predicted=  'Iris-setosa',        actual=  'Iris-setosa'\n",
            "  predicted=  'Iris-setosa',        actual=  'Iris-setosa'\n",
            "  predicted=  'Iris-setosa',        actual=  'Iris-setosa'\n",
            "  predicted=  'Iris-setosa',        actual=  'Iris-setosa'\n",
            "  predicted=  'Iris-setosa',        actual=  'Iris-setosa'\n",
            "  predicted=  'Iris-setosa',        actual=  'Iris-setosa'\n",
            "  predicted=  'Iris-setosa',        actual=  'Iris-setosa'\n",
            "  predicted=  'Iris-setosa',        actual=  'Iris-setosa'\n",
            "  predicted=  'Iris-setosa',        actual=  'Iris-setosa'\n",
            "  predicted=  'Iris-setosa',        actual=  'Iris-setosa'\n",
            "  predicted=  'Iris-setosa',        actual=  'Iris-setosa'\n",
            "  predicted=  'Iris-setosa',        actual=  'Iris-setosa'\n",
            "  predicted=  'Iris-setosa',        actual=  'Iris-setosa'\n",
            "  predicted=  'Iris-setosa',        actual=  'Iris-setosa'\n",
            "  predicted=  'Iris-setosa',        actual=  'Iris-setosa'\n",
            "  predicted=  'Iris-setosa',        actual=  'Iris-setosa'\n",
            "  predicted=  'Iris-setosa',        actual=  'Iris-setosa'\n",
            "  predicted=  'Iris-setosa',        actual=  'Iris-setosa'\n",
            "  predicted=  'Iris-setosa',        actual=  'Iris-setosa'\n",
            "  predicted=  'Iris-setosa',        actual=  'Iris-setosa'\n",
            "  predicted=  'Iris-setosa',        actual=  'Iris-setosa'\n",
            "  predicted=  'Iris-setosa',        actual=  'Iris-setosa'\n",
            "  predicted=  'Iris-setosa',        actual=  'Iris-setosa'\n",
            "  predicted=  'Iris-setosa',        actual=  'Iris-setosa'\n",
            "  predicted=  'Iris-setosa',        actual=  'Iris-setosa'\n",
            "  predicted=  'Iris-setosa',        actual=  'Iris-setosa'\n",
            "  predicted=  'Iris-setosa',        actual=  'Iris-setosa'\n",
            "  predicted=  'Iris-setosa',        actual=  'Iris-setosa'\n",
            "  predicted=  'Iris-setosa',        actual=  'Iris-setosa'\n",
            "  predicted=  'Iris-setosa',        actual=  'Iris-setosa'\n",
            "  predicted=  'Iris-setosa',        actual=  'Iris-setosa'\n",
            "  predicted=  'Iris-setosa',        actual=  'Iris-setosa'\n",
            "  predicted=  'Iris-setosa',        actual=  'Iris-setosa'\n",
            "  predicted=  'Iris-setosa',        actual=  'Iris-setosa'\n",
            "  predicted=  'Iris-setosa',        actual=  'Iris-setosa'\n",
            "  predicted=  'Iris-setosa',        actual=  'Iris-setosa'\n",
            "  predicted=  'Iris-setosa',        actual=  'Iris-setosa'\n",
            "  predicted=  'Iris-setosa',        actual=  'Iris-setosa'\n",
            "  predicted=  'Iris-setosa',        actual=  'Iris-setosa'\n",
            "  predicted=  'Iris-setosa',        actual=  'Iris-setosa'\n",
            "  predicted=  'Iris-setosa',        actual=  'Iris-setosa'\n",
            "  predicted=  'Iris-setosa',        actual=  'Iris-setosa'\n",
            "  predicted=  'Iris-setosa',        actual=  'Iris-setosa'\n",
            "  predicted=  'Iris-setosa',        actual=  'Iris-setosa'\n",
            "  predicted=  'Iris-setosa',        actual=  'Iris-setosa'\n",
            "  predicted=  'Iris-setosa',        actual=  'Iris-setosa'\n",
            "  predicted=  'Iris-setosa',        actual=  'Iris-setosa'\n",
            "  predicted=  'Iris-setosa',        actual=  'Iris-setosa'\n",
            "  predicted=  'Iris-setosa',        actual=  'Iris-setosa'\n",
            "  predicted=  'Iris-setosa',        actual=  'Iris-setosa'\n",
            "  predicted=  'Iris-setosa',        actual=  'Iris-setosa'\n",
            "  predicted=  'Iris-setosa',        actual=  'Iris-setosa'\n",
            "  predicted=  'Iris-setosa',        actual=  'Iris-setosa'\n",
            "  predicted=  'Iris-setosa',        actual=  'Iris-setosa'\n",
            "  predicted=  'Iris-setosa',        actual=  'Iris-setosa'\n",
            "  predicted=  'Iris-setosa',        actual=  'Iris-setosa'\n",
            "  predicted=  'Iris-setosa',        actual=  'Iris-setosa'\n",
            "  predicted=  'Iris-setosa',        actual=  'Iris-setosa'\n",
            "  predicted=  'Iris-setosa',        actual=  'Iris-setosa'\n",
            "  predicted=  'Iris-setosa',        actual=  'Iris-setosa'\n",
            "  predicted=  'Iris-setosa',        actual=  'Iris-setosa'\n",
            "  predicted=  'Iris-setosa',        actual=  'Iris-setosa'\n",
            "  predicted=  'Iris-setosa',        actual=  'Iris-setosa'\n",
            "  predicted=  'Iris-setosa',        actual=  'Iris-setosa'\n",
            "  predicted=  'Iris-setosa',        actual=  'Iris-setosa'\n",
            "  predicted=  'Iris-setosa',        actual=  'Iris-versicolor'\n",
            "  predicted=  'Iris-setosa',        actual=  'Iris-versicolor'\n",
            "  predicted=  'Iris-setosa',        actual=  'Iris-versicolor'\n",
            "  predicted=  'Iris-setosa',        actual=  'Iris-versicolor'\n",
            "  predicted=  'Iris-setosa',        actual=  'Iris-versicolor'\n",
            "  predicted=  'Iris-setosa',        actual=  'Iris-versicolor'\n",
            "  predicted=  'Iris-setosa',        actual=  'Iris-versicolor'\n",
            "  predicted=  'Iris-setosa',        actual=  'Iris-versicolor'\n",
            "  predicted=  'Iris-setosa',        actual=  'Iris-versicolor'\n",
            "  predicted=  'Iris-setosa',        actual=  'Iris-versicolor'\n",
            "  predicted=  'Iris-setosa',        actual=  'Iris-versicolor'\n",
            "  predicted=  'Iris-setosa',        actual=  'Iris-versicolor'\n",
            "  predicted=  'Iris-setosa',        actual=  'Iris-versicolor'\n",
            "  predicted=  'Iris-setosa',        actual=  'Iris-versicolor'\n",
            "  predicted=  'Iris-setosa',        actual=  'Iris-versicolor'\n",
            "  predicted=  'Iris-setosa',        actual=  'Iris-versicolor'\n",
            "  predicted=  'Iris-setosa',        actual=  'Iris-versicolor'\n",
            "  predicted=  'Iris-setosa',        actual=  'Iris-versicolor'\n",
            "  predicted=  'Iris-setosa',        actual=  'Iris-versicolor'\n",
            "  predicted=  'Iris-setosa',        actual=  'Iris-versicolor'\n",
            "  predicted=  'Iris-setosa',        actual=  'Iris-versicolor'\n",
            "  predicted=  'Iris-setosa',        actual=  'Iris-versicolor'\n",
            "  predicted=  'Iris-setosa',        actual=  'Iris-versicolor'\n",
            "  predicted=  'Iris-setosa',        actual=  'Iris-versicolor'\n",
            "  predicted=  'Iris-setosa',        actual=  'Iris-versicolor'\n",
            "  predicted=  'Iris-setosa',        actual=  'Iris-versicolor'\n",
            "  predicted=  'Iris-setosa',        actual=  'Iris-versicolor'\n",
            "  predicted=  'Iris-setosa',        actual=  'Iris-versicolor'\n",
            "  predicted=  'Iris-setosa',        actual=  'Iris-versicolor'\n",
            "  predicted=  'Iris-setosa',        actual=  'Iris-versicolor'\n",
            "  predicted=  'Iris-setosa',        actual=  'Iris-versicolor'\n",
            "  predicted=  'Iris-setosa',        actual=  'Iris-versicolor'\n",
            "  predicted=  'Iris-setosa',        actual=  'Iris-versicolor'\n",
            "  predicted=  'Iris-setosa',        actual=  'Iris-versicolor'\n",
            "  predicted=  'Iris-setosa',        actual=  'Iris-versicolor'\n",
            "  predicted=  'Iris-setosa',        actual=  'Iris-versicolor'\n",
            "  predicted=  'Iris-setosa',        actual=  'Iris-versicolor'\n",
            "  predicted=  'Iris-setosa',        actual=  'Iris-versicolor'\n",
            "  predicted=  'Iris-setosa',        actual=  'Iris-versicolor'\n",
            "  predicted=  'Iris-setosa',        actual=  'Iris-versicolor'\n",
            "  predicted=  'Iris-setosa',        actual=  'Iris-versicolor'\n",
            "  predicted=  'Iris-setosa',        actual=  'Iris-versicolor'\n",
            "  predicted=  'Iris-setosa',        actual=  'Iris-versicolor'\n",
            "  predicted=  'Iris-setosa',        actual=  'Iris-versicolor'\n",
            "  predicted=  'Iris-setosa',        actual=  'Iris-versicolor'\n",
            "  predicted=  'Iris-setosa',        actual=  'Iris-versicolor'\n",
            "  predicted=  'Iris-setosa',        actual=  'Iris-versicolor'\n",
            "  predicted=  'Iris-setosa',        actual=  'Iris-versicolor'\n",
            "  predicted=  'Iris-setosa',        actual=  'Iris-versicolor'\n",
            "  predicted=  'Iris-setosa',        actual=  'Iris-versicolor'\n",
            "  predicted=  'Iris-setosa',        actual=  'Iris-versicolor'\n",
            "  predicted=  'Iris-setosa',        actual=  'Iris-versicolor'\n",
            "  predicted=  'Iris-setosa',        actual=  'Iris-versicolor'\n",
            "  predicted=  'Iris-setosa',        actual=  'Iris-versicolor'\n",
            "  predicted=  'Iris-setosa',        actual=  'Iris-versicolor'\n",
            "  predicted=  'Iris-setosa',        actual=  'Iris-versicolor'\n",
            "  predicted=  'Iris-setosa',        actual=  'Iris-versicolor'\n",
            "  predicted=  'Iris-setosa',        actual=  'Iris-versicolor'\n",
            "  predicted=  'Iris-setosa',        actual=  'Iris-versicolor'\n",
            "  predicted=  'Iris-setosa',        actual=  'Iris-versicolor'\n",
            "  predicted=  'Iris-setosa',        actual=  'Iris-versicolor'\n",
            "  predicted=  'Iris-setosa',        actual=  'Iris-versicolor'\n",
            "  predicted=  'Iris-setosa',        actual=  'Iris-versicolor'\n",
            "  predicted=  'Iris-setosa',        actual=  'Iris-versicolor'\n",
            "  predicted=  'Iris-setosa',        actual=  'Iris-versicolor'\n",
            "  predicted=  'Iris-setosa',        actual=  'Iris-virginica'\n",
            "  predicted=  'Iris-setosa',        actual=  'Iris-virginica'\n",
            "  predicted=  'Iris-setosa',        actual=  'Iris-virginica'\n",
            "  predicted=  'Iris-setosa',        actual=  'Iris-virginica'\n",
            "  predicted=  'Iris-setosa',        actual=  'Iris-virginica'\n",
            "  predicted=  'Iris-setosa',        actual=  'Iris-virginica'\n",
            "  predicted=  'Iris-setosa',        actual=  'Iris-virginica'\n",
            "  predicted=  'Iris-setosa',        actual=  'Iris-virginica'\n",
            "  predicted=  'Iris-setosa',        actual=  'Iris-virginica'\n",
            "  predicted=  'Iris-setosa',        actual=  'Iris-virginica'\n",
            "  predicted=  'Iris-setosa',        actual=  'Iris-virginica'\n",
            "  predicted=  'Iris-setosa',        actual=  'Iris-virginica'\n",
            "  predicted=  'Iris-setosa',        actual=  'Iris-virginica'\n",
            "  predicted=  'Iris-setosa',        actual=  'Iris-virginica'\n",
            "  predicted=  'Iris-setosa',        actual=  'Iris-virginica'\n",
            "  predicted=  'Iris-setosa',        actual=  'Iris-virginica'\n",
            "  predicted=  'Iris-setosa',        actual=  'Iris-virginica'\n",
            "  predicted=  'Iris-setosa',        actual=  'Iris-virginica'\n",
            "  predicted=  'Iris-setosa',        actual=  'Iris-virginica'\n",
            "  predicted=  'Iris-setosa',        actual=  'Iris-virginica'\n",
            "  predicted=  'Iris-setosa',        actual=  'Iris-virginica'\n",
            "  predicted=  'Iris-setosa',        actual=  'Iris-virginica'\n",
            "  predicted=  'Iris-setosa',        actual=  'Iris-virginica'\n",
            "  predicted=  'Iris-setosa',        actual=  'Iris-virginica'\n",
            "  predicted=  'Iris-setosa',        actual=  'Iris-virginica'\n",
            "  predicted=  'Iris-setosa',        actual=  'Iris-virginica'\n",
            "  predicted=  'Iris-setosa',        actual=  'Iris-virginica'\n",
            "  predicted=  'Iris-setosa',        actual=  'Iris-virginica'\n",
            "  predicted=  'Iris-setosa',        actual=  'Iris-virginica'\n",
            "  predicted=  'Iris-setosa',        actual=  'Iris-virginica'\n",
            "  predicted=  'Iris-setosa',        actual=  'Iris-virginica'\n",
            "  predicted=  'Iris-setosa',        actual=  'Iris-virginica'\n",
            "  predicted=  'Iris-setosa',        actual=  'Iris-virginica'\n",
            "  predicted=  'Iris-setosa',        actual=  'Iris-virginica'\n",
            "  predicted=  'Iris-setosa',        actual=  'Iris-virginica'\n",
            "  predicted=  'Iris-setosa',        actual=  'Iris-virginica'\n",
            "  predicted=  'Iris-setosa',        actual=  'Iris-virginica'\n",
            "  predicted=  'Iris-setosa',        actual=  'Iris-virginica'\n",
            "  predicted=  'Iris-setosa',        actual=  'Iris-virginica'\n",
            "  predicted=  'Iris-setosa',        actual=  'Iris-virginica'\n",
            "  predicted=  'Iris-setosa',        actual=  'Iris-virginica'\n",
            "  predicted=  'Iris-setosa',        actual=  'Iris-virginica'\n",
            "  predicted=  'Iris-setosa',        actual=  'Iris-virginica'\n",
            "  predicted=  'Iris-setosa',        actual=  'Iris-virginica'\n",
            "  predicted=  'Iris-setosa',        actual=  'Iris-virginica'\n",
            "  predicted=  'Iris-setosa',        actual=  'Iris-virginica'\n",
            "  predicted=  'Iris-setosa',        actual=  'Iris-virginica'\n",
            "  predicted=  'Iris-setosa',        actual=  'Iris-virginica'\n",
            "  predicted=  'Iris-setosa',        actual=  'Iris-virginica'\n",
            "  predicted=  'Iris-setosa',        actual=  'Iris-virginica'\n",
            "  predicted=  'Iris-setosa',        actual=  'Iris-virginica'\n",
            "  predicted=  'Iris-setosa',        actual=  'Iris-virginica'\n",
            "  predicted=  'Iris-setosa',        actual=  'Iris-virginica'\n",
            "  predicted=  'Iris-setosa',        actual=  'Iris-virginica'\n",
            "  predicted=  'Iris-setosa',        actual=  'Iris-virginica'\n",
            "  predicted=  'Iris-setosa',        actual=  'Iris-virginica'\n",
            "  predicted=  'Iris-setosa',        actual=  'Iris-virginica'\n",
            "Accuracy: 0.5%\n"
          ],
          "name": "stdout"
        }
      ]
    }
  ]
}