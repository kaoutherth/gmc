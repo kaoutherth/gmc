{
  "nbformat": 4,
  "nbformat_minor": 0,
  "metadata": {
    "colab": {
      "name": "checkpoint1",
      "provenance": [],
      "authorship_tag": "ABX9TyMe4NpIO+mgghvfJRyI67CX"
    },
    "kernelspec": {
      "name": "python3",
      "display_name": "Python 3"
    },
    "language_info": {
      "name": "python"
    }
  },
  "cells": [
    {
      "cell_type": "code",
      "metadata": {
        "id": "UTJTQExqDqkx"
      },
      "source": [
        "for n in range(2000,3201):\n",
        "    if n%7==0:\n",
        "     print(n)\n"
      ],
      "execution_count": null,
      "outputs": []
    },
    {
      "cell_type": "code",
      "metadata": {
        "id": "7-xjyilSnYDg"
      },
      "source": [
        "num=int(input(\"enter a number: \"))\n",
        "if num < 0:\n",
        "   print(\"factorial does not exist for negative numbers !!\")\n",
        "elif num == 0:\n",
        "   print(\"The factorial of 0 is 1\")\n",
        "else:\n",
        "  for i in range(1,num + 1):\n",
        "    factorial = factorial*i\n",
        "print(\"The factorial of\",num,\"is\",factorial)"
      ],
      "execution_count": 9,
      "outputs": []
    },
    {
      "cell_type": "code",
      "metadata": {
        "colab": {
          "base_uri": "https://localhost:8080/"
        },
        "id": "V-Qps29fSnF7",
        "outputId": "8233e07f-4c07-43a7-a041-e1cd6b177ada"
      },
      "source": [
        "n= int(input(\"enter a number: \"))\n",
        "dicto={}\n",
        "if n<1:\n",
        "  print(\"error, enter a number >1 !\")\n",
        "else:\n",
        " for i in range(1,n+1):\n",
        "    key= i\n",
        "    value=i*i\n",
        "    dicto[key]=value\n",
        "dicto\n"
      ],
      "execution_count": 113,
      "outputs": [
        {
          "output_type": "stream",
          "text": [
            "enter a number: 5\n"
          ],
          "name": "stdout"
        },
        {
          "output_type": "execute_result",
          "data": {
            "text/plain": [
              "{1: 1, 2: 4, 3: 9, 4: 16, 5: 25}"
            ]
          },
          "metadata": {
            "tags": []
          },
          "execution_count": 113
        }
      ]
    },
    {
      "cell_type": "code",
      "metadata": {
        "id": "LnW6p7tpvXzx"
      },
      "source": [
        ""
      ],
      "execution_count": 108,
      "outputs": []
    },
    {
      "cell_type": "code",
      "metadata": {
        "colab": {
          "base_uri": "https://localhost:8080/"
        },
        "id": "EsHJBUbMYPX0",
        "outputId": "8d8d530d-f0b8-4ba8-ee99-7d2fa99c8e1e"
      },
      "source": [
        "val = input(\"Enter your value: \")\n",
        "n=input(\"enter the position of the char to remove: \")\n",
        "if n in range(0,len(val)-1):\n",
        "   l=list(val)\n",
        "   l[n]=\"\"\n",
        "   print(l)"
      ],
      "execution_count": 127,
      "outputs": [
        {
          "output_type": "stream",
          "text": [
            "Enter your value: kopj\n",
            "enter the position of the char to remove: 2\n"
          ],
          "name": "stdout"
        }
      ]
    },
    {
      "cell_type": "code",
      "metadata": {
        "colab": {
          "base_uri": "https://localhost:8080/"
        },
        "id": "G18P12kieq3S",
        "outputId": "d6baea33-b526-4280-cc6b-d1d163e7ed57"
      },
      "source": [
        "import numpy as np\n",
        "a = np.array([[0,1],[2,3],[4,5]])\n",
        "print(a.tolist())"
      ],
      "execution_count": 111,
      "outputs": [
        {
          "output_type": "stream",
          "text": [
            "[[0, 1], [2, 3], [4, 5]]\n"
          ],
          "name": "stdout"
        }
      ]
    },
    {
      "cell_type": "code",
      "metadata": {
        "colab": {
          "base_uri": "https://localhost:8080/"
        },
        "id": "DxLxPbJYmy1Z",
        "outputId": "8424acb9-7144-4f72-ad40-7317e9663a90"
      },
      "source": [
        "import numpy as np\n",
        "a = np.array([0,1,2])\n",
        "b = np.array([2,1,0])\n",
        "np.cov(a,b)"
      ],
      "execution_count": 95,
      "outputs": [
        {
          "output_type": "execute_result",
          "data": {
            "text/plain": [
              "array([[ 1., -1.],\n",
              "       [-1.,  1.]])"
            ]
          },
          "metadata": {
            "tags": []
          },
          "execution_count": 95
        }
      ]
    },
    {
      "cell_type": "code",
      "metadata": {
        "colab": {
          "base_uri": "https://localhost:8080/"
        },
        "id": "d0QVGQnrndnd",
        "outputId": "9c670e3f-0769-4be8-9990-cab0e708ebc2"
      },
      "source": [
        "from math import*\n",
        "def fct(param1,param2,param3):\n",
        "  c=int(50)\n",
        "  h=int(30)\n",
        "  q1=str(round(sqrt((2*c*+param1)/h)))\n",
        "  q2=str(round(sqrt((2*c*+param2)/h)))\n",
        "  q3=str(round(sqrt((2*c*+param3)/h)))\n",
        "  ch=str(q1)+\",\"+str(q2)+\",\"+str(q3)\n",
        "  return ch \n",
        "a=input(\"enter la sequence des valeurs separés par virgules : \")\n",
        "seq=a.split(\",\")\n",
        "res=fct(int(seq[0]),int(seq[1]),int(seq[2]))\n",
        "print(res)"
      ],
      "execution_count": 7,
      "outputs": [
        {
          "output_type": "stream",
          "text": [
            "enter la sequence des valeurs separés par virgules : 12,15,25\n",
            "6,7,9\n"
          ],
          "name": "stdout"
        }
      ]
    },
    {
      "cell_type": "code",
      "metadata": {
        "id": "eoH8tScaaj3f"
      },
      "source": [
        ""
      ],
      "execution_count": null,
      "outputs": []
    }
  ]
}